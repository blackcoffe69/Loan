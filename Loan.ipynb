{
 "cells": [
  {
   "cell_type": "code",
   "execution_count": 678,
   "id": "b1aecc35",
   "metadata": {},
   "outputs": [],
   "source": [
    "import pandas as pd\n",
    "Loan=pd.read_csv(\"Loan_default.csv\")"
   ]
  },
  {
   "cell_type": "code",
   "execution_count": 679,
   "id": "3809b373",
   "metadata": {},
   "outputs": [
    {
     "data": {
      "text/html": [
       "<div>\n",
       "<style scoped>\n",
       "    .dataframe tbody tr th:only-of-type {\n",
       "        vertical-align: middle;\n",
       "    }\n",
       "\n",
       "    .dataframe tbody tr th {\n",
       "        vertical-align: top;\n",
       "    }\n",
       "\n",
       "    .dataframe thead th {\n",
       "        text-align: right;\n",
       "    }\n",
       "</style>\n",
       "<table border=\"1\" class=\"dataframe\">\n",
       "  <thead>\n",
       "    <tr style=\"text-align: right;\">\n",
       "      <th></th>\n",
       "      <th>LoanID</th>\n",
       "      <th>Age</th>\n",
       "      <th>Income</th>\n",
       "      <th>LoanAmount</th>\n",
       "      <th>CreditScore</th>\n",
       "      <th>MonthsEmployed</th>\n",
       "      <th>NumCreditLines</th>\n",
       "      <th>InterestRate</th>\n",
       "      <th>LoanTerm</th>\n",
       "      <th>DTIRatio</th>\n",
       "      <th>Education</th>\n",
       "      <th>EmploymentType</th>\n",
       "      <th>MaritalStatus</th>\n",
       "      <th>HasMortgage</th>\n",
       "      <th>HasDependents</th>\n",
       "      <th>LoanPurpose</th>\n",
       "      <th>HasCoSigner</th>\n",
       "      <th>Default</th>\n",
       "    </tr>\n",
       "  </thead>\n",
       "  <tbody>\n",
       "    <tr>\n",
       "      <th>0</th>\n",
       "      <td>I38PQUQS96</td>\n",
       "      <td>56</td>\n",
       "      <td>85994</td>\n",
       "      <td>50587</td>\n",
       "      <td>520</td>\n",
       "      <td>80</td>\n",
       "      <td>4</td>\n",
       "      <td>15.23</td>\n",
       "      <td>36</td>\n",
       "      <td>0.44</td>\n",
       "      <td>Bachelor's</td>\n",
       "      <td>Full-time</td>\n",
       "      <td>Divorced</td>\n",
       "      <td>Yes</td>\n",
       "      <td>Yes</td>\n",
       "      <td>Other</td>\n",
       "      <td>Yes</td>\n",
       "      <td>0</td>\n",
       "    </tr>\n",
       "    <tr>\n",
       "      <th>1</th>\n",
       "      <td>HPSK72WA7R</td>\n",
       "      <td>69</td>\n",
       "      <td>50432</td>\n",
       "      <td>124440</td>\n",
       "      <td>458</td>\n",
       "      <td>15</td>\n",
       "      <td>1</td>\n",
       "      <td>4.81</td>\n",
       "      <td>60</td>\n",
       "      <td>0.68</td>\n",
       "      <td>Master's</td>\n",
       "      <td>Full-time</td>\n",
       "      <td>Married</td>\n",
       "      <td>No</td>\n",
       "      <td>No</td>\n",
       "      <td>Other</td>\n",
       "      <td>Yes</td>\n",
       "      <td>0</td>\n",
       "    </tr>\n",
       "    <tr>\n",
       "      <th>2</th>\n",
       "      <td>C1OZ6DPJ8Y</td>\n",
       "      <td>46</td>\n",
       "      <td>84208</td>\n",
       "      <td>129188</td>\n",
       "      <td>451</td>\n",
       "      <td>26</td>\n",
       "      <td>3</td>\n",
       "      <td>21.17</td>\n",
       "      <td>24</td>\n",
       "      <td>0.31</td>\n",
       "      <td>Master's</td>\n",
       "      <td>Unemployed</td>\n",
       "      <td>Divorced</td>\n",
       "      <td>Yes</td>\n",
       "      <td>Yes</td>\n",
       "      <td>Auto</td>\n",
       "      <td>No</td>\n",
       "      <td>1</td>\n",
       "    </tr>\n",
       "    <tr>\n",
       "      <th>3</th>\n",
       "      <td>V2KKSFM3UN</td>\n",
       "      <td>32</td>\n",
       "      <td>31713</td>\n",
       "      <td>44799</td>\n",
       "      <td>743</td>\n",
       "      <td>0</td>\n",
       "      <td>3</td>\n",
       "      <td>7.07</td>\n",
       "      <td>24</td>\n",
       "      <td>0.23</td>\n",
       "      <td>High School</td>\n",
       "      <td>Full-time</td>\n",
       "      <td>Married</td>\n",
       "      <td>No</td>\n",
       "      <td>No</td>\n",
       "      <td>Business</td>\n",
       "      <td>No</td>\n",
       "      <td>0</td>\n",
       "    </tr>\n",
       "    <tr>\n",
       "      <th>4</th>\n",
       "      <td>EY08JDHTZP</td>\n",
       "      <td>60</td>\n",
       "      <td>20437</td>\n",
       "      <td>9139</td>\n",
       "      <td>633</td>\n",
       "      <td>8</td>\n",
       "      <td>4</td>\n",
       "      <td>6.51</td>\n",
       "      <td>48</td>\n",
       "      <td>0.73</td>\n",
       "      <td>Bachelor's</td>\n",
       "      <td>Unemployed</td>\n",
       "      <td>Divorced</td>\n",
       "      <td>No</td>\n",
       "      <td>Yes</td>\n",
       "      <td>Auto</td>\n",
       "      <td>No</td>\n",
       "      <td>0</td>\n",
       "    </tr>\n",
       "    <tr>\n",
       "      <th>...</th>\n",
       "      <td>...</td>\n",
       "      <td>...</td>\n",
       "      <td>...</td>\n",
       "      <td>...</td>\n",
       "      <td>...</td>\n",
       "      <td>...</td>\n",
       "      <td>...</td>\n",
       "      <td>...</td>\n",
       "      <td>...</td>\n",
       "      <td>...</td>\n",
       "      <td>...</td>\n",
       "      <td>...</td>\n",
       "      <td>...</td>\n",
       "      <td>...</td>\n",
       "      <td>...</td>\n",
       "      <td>...</td>\n",
       "      <td>...</td>\n",
       "      <td>...</td>\n",
       "    </tr>\n",
       "    <tr>\n",
       "      <th>255342</th>\n",
       "      <td>8C6S86ESGC</td>\n",
       "      <td>19</td>\n",
       "      <td>37979</td>\n",
       "      <td>210682</td>\n",
       "      <td>541</td>\n",
       "      <td>109</td>\n",
       "      <td>4</td>\n",
       "      <td>14.11</td>\n",
       "      <td>12</td>\n",
       "      <td>0.85</td>\n",
       "      <td>Bachelor's</td>\n",
       "      <td>Full-time</td>\n",
       "      <td>Married</td>\n",
       "      <td>No</td>\n",
       "      <td>No</td>\n",
       "      <td>Other</td>\n",
       "      <td>No</td>\n",
       "      <td>0</td>\n",
       "    </tr>\n",
       "    <tr>\n",
       "      <th>255343</th>\n",
       "      <td>98R4KDHNND</td>\n",
       "      <td>32</td>\n",
       "      <td>51953</td>\n",
       "      <td>189899</td>\n",
       "      <td>511</td>\n",
       "      <td>14</td>\n",
       "      <td>2</td>\n",
       "      <td>11.55</td>\n",
       "      <td>24</td>\n",
       "      <td>0.21</td>\n",
       "      <td>High School</td>\n",
       "      <td>Part-time</td>\n",
       "      <td>Divorced</td>\n",
       "      <td>No</td>\n",
       "      <td>No</td>\n",
       "      <td>Home</td>\n",
       "      <td>No</td>\n",
       "      <td>1</td>\n",
       "    </tr>\n",
       "    <tr>\n",
       "      <th>255344</th>\n",
       "      <td>XQK1UUUNGP</td>\n",
       "      <td>56</td>\n",
       "      <td>84820</td>\n",
       "      <td>208294</td>\n",
       "      <td>597</td>\n",
       "      <td>70</td>\n",
       "      <td>3</td>\n",
       "      <td>5.29</td>\n",
       "      <td>60</td>\n",
       "      <td>0.50</td>\n",
       "      <td>High School</td>\n",
       "      <td>Self-employed</td>\n",
       "      <td>Married</td>\n",
       "      <td>Yes</td>\n",
       "      <td>Yes</td>\n",
       "      <td>Auto</td>\n",
       "      <td>Yes</td>\n",
       "      <td>0</td>\n",
       "    </tr>\n",
       "    <tr>\n",
       "      <th>255345</th>\n",
       "      <td>JAO28CPL4H</td>\n",
       "      <td>42</td>\n",
       "      <td>85109</td>\n",
       "      <td>60575</td>\n",
       "      <td>809</td>\n",
       "      <td>40</td>\n",
       "      <td>1</td>\n",
       "      <td>20.90</td>\n",
       "      <td>48</td>\n",
       "      <td>0.44</td>\n",
       "      <td>High School</td>\n",
       "      <td>Part-time</td>\n",
       "      <td>Single</td>\n",
       "      <td>Yes</td>\n",
       "      <td>Yes</td>\n",
       "      <td>Other</td>\n",
       "      <td>No</td>\n",
       "      <td>0</td>\n",
       "    </tr>\n",
       "    <tr>\n",
       "      <th>255346</th>\n",
       "      <td>ZTH91CGL0B</td>\n",
       "      <td>62</td>\n",
       "      <td>22418</td>\n",
       "      <td>18481</td>\n",
       "      <td>636</td>\n",
       "      <td>113</td>\n",
       "      <td>2</td>\n",
       "      <td>6.73</td>\n",
       "      <td>12</td>\n",
       "      <td>0.48</td>\n",
       "      <td>Bachelor's</td>\n",
       "      <td>Unemployed</td>\n",
       "      <td>Divorced</td>\n",
       "      <td>Yes</td>\n",
       "      <td>No</td>\n",
       "      <td>Education</td>\n",
       "      <td>Yes</td>\n",
       "      <td>0</td>\n",
       "    </tr>\n",
       "  </tbody>\n",
       "</table>\n",
       "<p>255347 rows × 18 columns</p>\n",
       "</div>"
      ],
      "text/plain": [
       "            LoanID  Age  Income  LoanAmount  CreditScore  MonthsEmployed  \\\n",
       "0       I38PQUQS96   56   85994       50587          520              80   \n",
       "1       HPSK72WA7R   69   50432      124440          458              15   \n",
       "2       C1OZ6DPJ8Y   46   84208      129188          451              26   \n",
       "3       V2KKSFM3UN   32   31713       44799          743               0   \n",
       "4       EY08JDHTZP   60   20437        9139          633               8   \n",
       "...            ...  ...     ...         ...          ...             ...   \n",
       "255342  8C6S86ESGC   19   37979      210682          541             109   \n",
       "255343  98R4KDHNND   32   51953      189899          511              14   \n",
       "255344  XQK1UUUNGP   56   84820      208294          597              70   \n",
       "255345  JAO28CPL4H   42   85109       60575          809              40   \n",
       "255346  ZTH91CGL0B   62   22418       18481          636             113   \n",
       "\n",
       "        NumCreditLines  InterestRate  LoanTerm  DTIRatio    Education  \\\n",
       "0                    4         15.23        36      0.44   Bachelor's   \n",
       "1                    1          4.81        60      0.68     Master's   \n",
       "2                    3         21.17        24      0.31     Master's   \n",
       "3                    3          7.07        24      0.23  High School   \n",
       "4                    4          6.51        48      0.73   Bachelor's   \n",
       "...                ...           ...       ...       ...          ...   \n",
       "255342               4         14.11        12      0.85   Bachelor's   \n",
       "255343               2         11.55        24      0.21  High School   \n",
       "255344               3          5.29        60      0.50  High School   \n",
       "255345               1         20.90        48      0.44  High School   \n",
       "255346               2          6.73        12      0.48   Bachelor's   \n",
       "\n",
       "       EmploymentType MaritalStatus HasMortgage HasDependents LoanPurpose  \\\n",
       "0           Full-time      Divorced         Yes           Yes       Other   \n",
       "1           Full-time       Married          No            No       Other   \n",
       "2          Unemployed      Divorced         Yes           Yes        Auto   \n",
       "3           Full-time       Married          No            No    Business   \n",
       "4          Unemployed      Divorced          No           Yes        Auto   \n",
       "...               ...           ...         ...           ...         ...   \n",
       "255342      Full-time       Married          No            No       Other   \n",
       "255343      Part-time      Divorced          No            No        Home   \n",
       "255344  Self-employed       Married         Yes           Yes        Auto   \n",
       "255345      Part-time        Single         Yes           Yes       Other   \n",
       "255346     Unemployed      Divorced         Yes            No   Education   \n",
       "\n",
       "       HasCoSigner  Default  \n",
       "0              Yes        0  \n",
       "1              Yes        0  \n",
       "2               No        1  \n",
       "3               No        0  \n",
       "4               No        0  \n",
       "...            ...      ...  \n",
       "255342          No        0  \n",
       "255343          No        1  \n",
       "255344         Yes        0  \n",
       "255345          No        0  \n",
       "255346         Yes        0  \n",
       "\n",
       "[255347 rows x 18 columns]"
      ]
     },
     "execution_count": 679,
     "metadata": {},
     "output_type": "execute_result"
    }
   ],
   "source": [
    "Loan"
   ]
  },
  {
   "cell_type": "markdown",
   "id": "a5555e6a",
   "metadata": {},
   "source": [
    "# Analyszing the distribution of age,EmploymentType,Education,marital status,credit score,MonthlyEmployed,Loanterm to understand causes of defaulting of loans"
   ]
  },
  {
   "cell_type": "code",
   "execution_count": 680,
   "id": "5daac2bd",
   "metadata": {},
   "outputs": [],
   "source": [
    "age_distribution= Loan[\"Age\"].value_counts()\n",
    "employmenttype_distribution=Loan[\"EmploymentType\"].value_counts()\n",
    "education_distribution=Loan[\"Education\"].value_counts()\n",
    "maritalstatus_distribution=Loan[\"MaritalStatus\"].value_counts()\n",
    "creditscore_distribution=Loan[\"CreditScore\"].value_counts()\n",
    "monthlyEmployed_distribution=Loan[\"MonthsEmployed\"].value_counts()\n",
    "loanterm_distribution=Loan[\"LoanTerm\"].value_counts()"
   ]
  },
  {
   "cell_type": "code",
   "execution_count": 681,
   "id": "aa6f677b",
   "metadata": {},
   "outputs": [
    {
     "data": {
      "text/plain": [
       "(Age\n",
       " 55    5064\n",
       " 40    5056\n",
       " 65    5027\n",
       " 33    5022\n",
       " 53    5010\n",
       " Name: count, dtype: int64,\n",
       " EmploymentType\n",
       " Part-time        64161\n",
       " Unemployed       63824\n",
       " Self-employed    63706\n",
       " Full-time        63656\n",
       " Name: count, dtype: int64,\n",
       " Education\n",
       " Bachelor's     64366\n",
       " High School    63903\n",
       " Master's       63541\n",
       " PhD            63537\n",
       " Name: count, dtype: int64,\n",
       " MaritalStatus\n",
       " Married     85302\n",
       " Divorced    85033\n",
       " Single      85012\n",
       " Name: count, dtype: int64,\n",
       " CreditScore\n",
       " 630    528\n",
       " 445    521\n",
       " 829    520\n",
       " 753    519\n",
       " 670    515\n",
       " Name: count, dtype: int64,\n",
       " MonthsEmployed\n",
       " 56     2227\n",
       " 26     2223\n",
       " 45     2220\n",
       " 107    2207\n",
       " 17     2198\n",
       " Name: count, dtype: int64,\n",
       " LoanTerm\n",
       " 48    51166\n",
       " 60    51154\n",
       " 36    51061\n",
       " 24    51009\n",
       " 12    50957\n",
       " Name: count, dtype: int64)"
      ]
     },
     "execution_count": 681,
     "metadata": {},
     "output_type": "execute_result"
    }
   ],
   "source": [
    "age_distribution.head(),employmenttype_distribution,education_distribution,maritalstatus_distribution,creditscore_distribution.head(),monthlyEmployed_distribution.head(),loanterm_distribution.head()"
   ]
  },
  {
   "cell_type": "code",
   "execution_count": 682,
   "id": "e1c95a32",
   "metadata": {},
   "outputs": [],
   "source": [
    "# The predominant age among loan defaulters is 55, accompanied by a prevalent credit score of 528. Notably, individuals with part-time employment constitute the majority within this demographic.\n",
    "# The majority of defaulters hold a Bachelor's degree, indicating a higher level of education among this group."
   ]
  },
  {
   "cell_type": "markdown",
   "id": "87910d57",
   "metadata": {},
   "source": [
    "# Conducting an analysis to determine the proportion of defaulters."
   ]
  },
  {
   "cell_type": "code",
   "execution_count": 683,
   "id": "daec4161",
   "metadata": {},
   "outputs": [],
   "source": [
    "def_loan = Loan[Loan[\"Default\"] == 1]"
   ]
  },
  {
   "cell_type": "code",
   "execution_count": 684,
   "id": "03efb051",
   "metadata": {},
   "outputs": [],
   "source": [
    "common_age_range = (def_loan[\"Age\"].min(), defaulters[\"Age\"].max())"
   ]
  },
  {
   "cell_type": "code",
   "execution_count": 685,
   "id": "2f18ce55",
   "metadata": {},
   "outputs": [
    {
     "data": {
      "text/plain": [
       "(18, 69)"
      ]
     },
     "execution_count": 685,
     "metadata": {},
     "output_type": "execute_result"
    }
   ],
   "source": [
    "common_age_range"
   ]
  },
  {
   "cell_type": "code",
   "execution_count": 686,
   "id": "512aa0a0",
   "metadata": {},
   "outputs": [
    {
     "data": {
      "text/plain": [
       "Default\n",
       "0    88.387175\n",
       "1    11.612825\n",
       "Name: proportion, dtype: float64"
      ]
     },
     "execution_count": 686,
     "metadata": {},
     "output_type": "execute_result"
    }
   ],
   "source": [
    "loan_default_proportion = Loan [\"Default\"].value_counts(normalize=True) * 100\n",
    "loan_default_proportion"
   ]
  },
  {
   "cell_type": "code",
   "execution_count": 687,
   "id": "fdeefa7c",
   "metadata": {},
   "outputs": [],
   "source": [
    "# The analysis reveals that customers aged between 18 and 69 are the most common defaulters of loans. Recognizing these age brackets as potential risk factors can aid in mitigating loan default rates.\n",
    "# This analysis aids in comprehending the factors underlying the demographic trends observed among loan defaulters among our customer base."
   ]
  },
  {
   "cell_type": "code",
   "execution_count": 688,
   "id": "8087ab97",
   "metadata": {},
   "outputs": [],
   "source": [
    "# Assessing the income distribution among high-value customers reveals a segment with lower risk potential, demonstrating their ability to fulfill loan obligations consistently."
   ]
  },
  {
   "cell_type": "code",
   "execution_count": 689,
   "id": "ccc90dcf",
   "metadata": {},
   "outputs": [],
   "source": [
    "monthly_income=Loan[\"Income\"].describe()"
   ]
  },
  {
   "cell_type": "code",
   "execution_count": 690,
   "id": "daeb697f",
   "metadata": {},
   "outputs": [
    {
     "data": {
      "text/plain": [
       "count    255347.000000\n",
       "mean      82499.304597\n",
       "std       38963.013729\n",
       "min       15000.000000\n",
       "25%       48825.500000\n",
       "50%       82466.000000\n",
       "75%      116219.000000\n",
       "max      149999.000000\n",
       "Name: Income, dtype: float64"
      ]
     },
     "execution_count": 690,
     "metadata": {},
     "output_type": "execute_result"
    }
   ],
   "source": [
    "monthly_income"
   ]
  },
  {
   "cell_type": "code",
   "execution_count": 691,
   "id": "6ff55be7",
   "metadata": {},
   "outputs": [],
   "source": [
    "# The analysis indicates that among customers, the mean income stands at 82,499.31, with a standard deviation of 38,963.01. This suggests a commendable performance from our customer base in terms of income stability.\n",
    "# The range of income among customers spans from a minimum of $1,500.00 to a maximum of $149,999.00. This range suggests the potential for gradual recovery of loans over time from our diverse customer base.\n",
    "# The 25th, 50th (median), and 75th percentiles are 48,825.50, 82,466.00, and 116,219.00, respectively."
   ]
  },
  {
   "cell_type": "markdown",
   "id": "17673e12",
   "metadata": {},
   "source": [
    "# Performing an analysis on customers to discern factors conducive to loan repayment behavior."
   ]
  },
  {
   "cell_type": "code",
   "execution_count": 692,
   "id": "4b2fb9f3",
   "metadata": {},
   "outputs": [
    {
     "name": "stdout",
     "output_type": "stream",
     "text": [
      "Defaulting to user installation because normal site-packages is not writeableNote: you may need to restart the kernel to use updated packages.\n",
      "\n",
      "Requirement already satisfied: plotly in c:\\programdata\\anaconda3\\lib\\site-packages (5.9.0)\n",
      "Requirement already satisfied: tenacity>=6.2.0 in c:\\programdata\\anaconda3\\lib\\site-packages (from plotly) (8.2.2)\n"
     ]
    }
   ],
   "source": [
    "pip install plotly"
   ]
  },
  {
   "cell_type": "code",
   "execution_count": 693,
   "id": "aadc1950",
   "metadata": {},
   "outputs": [],
   "source": [
    "import matplotlib.pyplot as plt\n",
    "import seaborn as sns"
   ]
  },
  {
   "cell_type": "code",
   "execution_count": null,
   "id": "dfae0361",
   "metadata": {},
   "outputs": [],
   "source": []
  },
  {
   "cell_type": "code",
   "execution_count": 694,
   "id": "536de120",
   "metadata": {},
   "outputs": [],
   "source": [
    "# Analysis of EmploymentType by Income"
   ]
  },
  {
   "cell_type": "code",
   "execution_count": 695,
   "id": "b9282136",
   "metadata": {},
   "outputs": [],
   "source": [
    "income_by_employment = Loan.groupby(\"EmploymentType\")[\"Income\"].sum().reset_index()"
   ]
  },
  {
   "cell_type": "code",
   "execution_count": 696,
   "id": "e0ae23d9",
   "metadata": {},
   "outputs": [
    {
     "data": {
      "image/png": "[encoded data removed]",
      "text/plain": [
       "<Figure size 1000x600 with 1 Axes>"
      ]
     },
     "metadata": {},
     "output_type": "display_data"
    }
   ],
   "source": [
    "# Plotting\n",
    "plt.figure(figsize=(10, 6))\n",
    "sns.barplot(data=income_by_employment, x=\"EmploymentType\", y='Income', palette='muted')\n",
    "plt.xlabel(\"EmploymentType\")\n",
    "plt.ylabel(\"Sum of Income\")\n",
    "plt.title(\"Sum of Income by Employment Type\")\n",
    "plt.xticks(rotation=45)\n",
    "plt.show()"
   ]
  },
  {
   "cell_type": "code",
   "execution_count": 697,
   "id": "6604d560",
   "metadata": {},
   "outputs": [
    {
     "name": "stdout",
     "output_type": "stream",
     "text": [
      "  EmploymentType  TotalIncome\n",
      "0      Full-time   5276464807\n",
      "1      Part-time   5286183558\n",
      "2  Self-employed   5252350046\n",
      "3     Unemployed   5250951520\n"
     ]
    }
   ],
   "source": [
    "print(sum_income_by_employmenttype)"
   ]
  },
  {
   "cell_type": "code",
   "execution_count": 698,
   "id": "c65a276e",
   "metadata": {},
   "outputs": [],
   "source": [
    "# Analysing Default by Age"
   ]
  },
  {
   "cell_type": "code",
   "execution_count": 699,
   "id": "c5c56913",
   "metadata": {
    "scrolled": true
   },
   "outputs": [],
   "source": [
    "default_by_age = Loan.groupby(\"Age\")[\"Default\"].sum().reset_index()"
   ]
  },
  {
   "cell_type": "code",
   "execution_count": 700,
   "id": "6d6aa380",
   "metadata": {},
   "outputs": [
    {
     "data": {
      "image/png": "[encoded data removed]",
      "text/plain": [
       "<Figure size 1200x600 with 1 Axes>"
      ]
     },
     "metadata": {},
     "output_type": "display_data"
    }
   ],
   "source": [
    "# Plotting\n",
    "plt.figure(figsize=(12, 6))\n",
    "sns.barplot(data=default_by_age, x=\"Age\", y=\"Default\", palette='muted')\n",
    "plt.show()"
   ]
  },
  {
   "cell_type": "code",
   "execution_count": 701,
   "id": "6311797b",
   "metadata": {},
   "outputs": [
    {
     "name": "stdout",
     "output_type": "stream",
     "text": [
      "    Age  Default\n",
      "0    18     1084\n",
      "1    19     1096\n",
      "2    20     1086\n",
      "3    21      992\n",
      "4    22     1100\n",
      "5    23      887\n",
      "6    24      943\n",
      "7    25      912\n",
      "8    26      887\n",
      "9    27      905\n",
      "10   28      876\n",
      "11   29      788\n",
      "12   30      769\n",
      "13   31      788\n",
      "14   32      781\n",
      "15   33      745\n",
      "16   34      709\n",
      "17   35      696\n",
      "18   36      688\n",
      "19   37      629\n",
      "20   38      650\n",
      "21   39      571\n",
      "22   40      573\n",
      "23   41      536\n",
      "24   42      549\n",
      "25   43      509\n",
      "26   44      494\n",
      "27   45      485\n",
      "28   46      478\n",
      "29   47      468\n",
      "30   48      439\n",
      "31   49      433\n",
      "32   50      458\n",
      "33   51      408\n",
      "34   52      394\n",
      "35   53      344\n",
      "36   54      388\n",
      "37   55      343\n",
      "38   56      360\n",
      "39   57      318\n",
      "40   58      297\n",
      "41   59      286\n",
      "42   60      277\n",
      "43   61      266\n",
      "44   62      269\n",
      "45   63      243\n",
      "46   64      268\n",
      "47   65      291\n",
      "48   66      217\n",
      "49   67      231\n",
      "50   68      235\n",
      "51   69      214\n"
     ]
    }
   ],
   "source": [
    "print(defaults_by_age)"
   ]
  },
  {
   "cell_type": "code",
   "execution_count": 702,
   "id": "95364f2b",
   "metadata": {},
   "outputs": [],
   "source": [
    "defaults_by_maritalstatus = Loan.groupby(\"MaritalStatus\")[\"Default\"].sum().reset_index()\n"
   ]
  },
  {
   "cell_type": "code",
   "execution_count": 703,
   "id": "0eb6c275",
   "metadata": {},
   "outputs": [
    {
     "data": {
      "image/png": "[encoded data removed]",
      "text/plain": [
       "<Figure size 1200x800 with 1 Axes>"
      ]
     },
     "metadata": {},
     "output_type": "display_data"
    }
   ],
   "source": [
    "# Plotting\n",
    "plt.figure(figsize=(12, 8))\n",
    "sns.barplot(data=defaults_by_maritalstatus, x='MaritalStatus', y='Default', palette='muted')\n",
    "plt.show()"
   ]
  },
  {
   "cell_type": "code",
   "execution_count": 704,
   "id": "ec1370fa",
   "metadata": {},
   "outputs": [
    {
     "name": "stdout",
     "output_type": "stream",
     "text": [
      "  MaritalStatus  Default\n",
      "0      Divorced    10657\n",
      "1       Married     8869\n",
      "2        Single    10127\n"
     ]
    }
   ],
   "source": [
    "print(defaults_by_maritalstatus)"
   ]
  },
  {
   "cell_type": "code",
   "execution_count": 707,
   "id": "c66e3234",
   "metadata": {},
   "outputs": [],
   "source": [
    "marital_status_by_employmenttype = Loan.groupby([\"MaritalStatus\", \"EmploymentType\"]).size().reset_index(name=\"Count\")"
   ]
  },
  {
   "cell_type": "code",
   "execution_count": 708,
   "id": "0b147f2b",
   "metadata": {
    "scrolled": true
   },
   "outputs": [
    {
     "ename": "NameError",
     "evalue": "name 'plot' is not defined",
     "output_type": "error",
     "traceback": [
      "\u001b[1;31m---------------------------------------------------------------------------\u001b[0m",
      "\u001b[1;31mNameError\u001b[0m                                 Traceback (most recent call last)",
      "Cell \u001b[1;32mIn[708], line 4\u001b[0m\n\u001b[0;32m      2\u001b[0m plt\u001b[38;5;241m.\u001b[39mfigure(figsize\u001b[38;5;241m=\u001b[39m(\u001b[38;5;241m12\u001b[39m, \u001b[38;5;241m8\u001b[39m))\n\u001b[0;32m      3\u001b[0m sns\u001b[38;5;241m.\u001b[39mbarplot(data\u001b[38;5;241m=\u001b[39mmarital_status_by_employmenttype, x\u001b[38;5;241m=\u001b[39m\u001b[38;5;124m'\u001b[39m\u001b[38;5;124mMaritalStatus\u001b[39m\u001b[38;5;124m'\u001b[39m, y\u001b[38;5;241m=\u001b[39m\u001b[38;5;124m'\u001b[39m\u001b[38;5;124mCount\u001b[39m\u001b[38;5;124m'\u001b[39m, hue\u001b[38;5;241m=\u001b[39m\u001b[38;5;124m'\u001b[39m\u001b[38;5;124mEmploymentType\u001b[39m\u001b[38;5;124m'\u001b[39m, palette\u001b[38;5;241m=\u001b[39m\u001b[38;5;124m'\u001b[39m\u001b[38;5;124mmuted\u001b[39m\u001b[38;5;124m'\u001b[39m)\n\u001b[1;32m----> 4\u001b[0m plot\u001b[38;5;241m.\u001b[39mshow()\n",
      "\u001b[1;31mNameError\u001b[0m: name 'plot' is not defined"
     ]
    },
    {
     "data": {
      "image/png": "[encoded data removed]",
      "text/plain": [
       "<Figure size 1200x800 with 1 Axes>"
      ]
     },
     "metadata": {},
     "output_type": "display_data"
    }
   ],
   "source": [
    "# Plotting\n",
    "plt.figure(figsize=(12, 8))\n",
    "sns.barplot(data=marital_status_by_employmenttype, x='MaritalStatus', y='Count', hue='EmploymentType', palette='muted')\n",
    "plot.show()"
   ]
  },
  {
   "cell_type": "code",
   "execution_count": 709,
   "id": "ee4d64b6",
   "metadata": {},
   "outputs": [
    {
     "name": "stdout",
     "output_type": "stream",
     "text": [
      "   MaritalStatus EmploymentType  Count\n",
      "0       Divorced      Full-time  21350\n",
      "1       Divorced      Part-time  21460\n",
      "2       Divorced  Self-employed  21079\n",
      "3       Divorced     Unemployed  21144\n",
      "4        Married      Full-time  21091\n",
      "5        Married      Part-time  21406\n",
      "6        Married  Self-employed  21489\n",
      "7        Married     Unemployed  21316\n",
      "8         Single      Full-time  21215\n",
      "9         Single      Part-time  21295\n",
      "10        Single  Self-employed  21138\n",
      "11        Single     Unemployed  21364\n"
     ]
    }
   ],
   "source": [
    "print(marital_status_by_employmenttype)"
   ]
  },
  {
   "cell_type": "code",
   "execution_count": 710,
   "id": "482d1543",
   "metadata": {},
   "outputs": [],
   "source": [
    "mean_income_by_purpose = Loan.groupby(\"LoanPurpose\")[\"Income\"].mean().reset_index()"
   ]
  },
  {
   "cell_type": "code",
   "execution_count": 711,
   "id": "3ad6e797",
   "metadata": {},
   "outputs": [
    {
     "data": {
      "image/png": "[encoded data removed]",
      "text/plain": [
       "<Figure size 1000x600 with 1 Axes>"
      ]
     },
     "metadata": {},
     "output_type": "display_data"
    }
   ],
   "source": [
    "# Plotting\n",
    "plt.figure(figsize=(10, 6))\n",
    "sns.barplot(data=Loan, x=\"LoanPurpose\", y=\"Income\", palette='muted')\n",
    "plt.tight_layout()\n",
    "plt.show()"
   ]
  },
  {
   "cell_type": "code",
   "execution_count": 712,
   "id": "fad0f1d0",
   "metadata": {},
   "outputs": [
    {
     "name": "stdout",
     "output_type": "stream",
     "text": [
      "  LoanPurpose        Income\n",
      "0        Auto  82508.299504\n",
      "1    Business  82897.470798\n",
      "2   Education  82217.746064\n",
      "3        Home  82402.193523\n",
      "4       Other  82469.035216\n"
     ]
    }
   ],
   "source": [
    "print(mean_income_by_purpose)"
   ]
  },
  {
   "cell_type": "code",
   "execution_count": 713,
   "id": "f4f69a14",
   "metadata": {},
   "outputs": [],
   "source": [
    "# The loan purpose for each customer varies slightly, with most aligning closely with their mean income. Notably, those seeking loans for business purposes rank highest."
   ]
  },
  {
   "cell_type": "code",
   "execution_count": 714,
   "id": "47c2d26b",
   "metadata": {},
   "outputs": [],
   "source": [
    "avg_loan_amount_by_term = Loan.groupby(\"LoanTerm\")[\"LoanAmount\"].mean().reset_index()"
   ]
  },
  {
   "cell_type": "code",
   "execution_count": 715,
   "id": "f81d0be0",
   "metadata": {},
   "outputs": [
    {
     "data": {
      "image/png": "[encoded data removed]",
      "text/plain": [
       "<Figure size 1000x600 with 1 Axes>"
      ]
     },
     "metadata": {},
     "output_type": "display_data"
    }
   ],
   "source": [
    "# Plotting\n",
    "plt.figure(figsize=(10, 6))\n",
    "sns.lineplot(data=avg_loan_amount_by_term, x=\"LoanTerm\", y=\"LoanAmount\", marker='o', color='blue')\n",
    "plt.show()"
   ]
  },
  {
   "cell_type": "code",
   "execution_count": 716,
   "id": "cef8ba83",
   "metadata": {},
   "outputs": [
    {
     "name": "stdout",
     "output_type": "stream",
     "text": [
      "   LoanTerm     LoanAmount\n",
      "0        12  127215.034284\n",
      "1        24  127540.348311\n",
      "2        36  127629.742347\n",
      "3        48  127773.078822\n",
      "4        60  127734.660398\n"
     ]
    }
   ],
   "source": [
    "print(avg_loan_amount_by_term)"
   ]
  },
  {
   "cell_type": "code",
   "execution_count": null,
   "id": "029dbce6",
   "metadata": {},
   "outputs": [],
   "source": [
    "# The trend indicates an upward trend in loan term repayment, starting from 12 months and increasing. This suggests that spreading the loan term over various durations facilitates easier repayment for clients."
   ]
  },
  {
   "cell_type": "code",
   "execution_count": null,
   "id": "d7f9802b",
   "metadata": {},
   "outputs": [],
   "source": []
  }
 ],
 "metadata": {
  "kernelspec": {
   "display_name": "Python 3 (ipykernel)",
   "language": "python",
   "name": "python3"
  },
  "language_info": {
   "codemirror_mode": {
    "name": "ipython",
    "version": 3
   },
   "file_extension": ".py",
   "mimetype": "text/x-python",
   "name": "python",
   "nbconvert_exporter": "python",
   "pygments_lexer": "ipython3",
   "version": "3.11.5"
  }
 },
 "nbformat": 4,
 "nbformat_minor": 5
}
